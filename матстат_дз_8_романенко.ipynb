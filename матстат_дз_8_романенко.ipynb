{
  "nbformat": 4,
  "nbformat_minor": 0,
  "metadata": {
    "colab": {
      "provenance": [],
      "authorship_tag": "ABX9TyM4CLMSqcmnR02WEAFuZT5c",
      "include_colab_link": true
    },
    "kernelspec": {
      "name": "python3",
      "display_name": "Python 3"
    },
    "language_info": {
      "name": "python"
    }
  },
  "cells": [
    {
      "cell_type": "markdown",
      "metadata": {
        "id": "view-in-github",
        "colab_type": "text"
      },
      "source": [
        "<a href=\"https://colab.research.google.com/github/russianopossum/homework_mixed/blob/theory_of_chances_lesson_8/%D0%BC%D0%B0%D1%82%D1%81%D1%82%D0%B0%D1%82_%D0%B4%D0%B7_8_%D1%80%D0%BE%D0%BC%D0%B0%D0%BD%D0%B5%D0%BD%D0%BA%D0%BE.ipynb\" target=\"_parent\"><img src=\"https://colab.research.google.com/assets/colab-badge.svg\" alt=\"Open In Colab\"/></a>"
      ]
    },
    {
      "cell_type": "markdown",
      "source": [
        "**Задача 1**"
      ],
      "metadata": {
        "id": "99wRNyA7BVoj"
      }
    },
    {
      "cell_type": "markdown",
      "source": [
        "Провести дисперсионный анализ для определения того, есть ли различия среднего роста среди взрослых футболистов, хоккеистов и штангистов. Даны значения роста в трех группах случайно выбранных спортсменов: Футболисты: 173, 175, 180, 178, 177, 185, 183, 182. Хоккеисты: 177, 179, 180, 188, 177, 172, 171, 184, 180. Штангисты: 172, 173, 169, 177, 166, 180, 178, 177, 172, 166, 170. alpha = 0.05."
      ],
      "metadata": {
        "id": "JkzN7Gi5BX5B"
      }
    },
    {
      "cell_type": "code",
      "source": [
        "import scipy.stats as stats\n",
        "import numpy as np"
      ],
      "metadata": {
        "id": "Va1jbNmyBnen"
      },
      "execution_count": 1,
      "outputs": []
    },
    {
      "cell_type": "markdown",
      "source": [
        "Всего три группы."
      ],
      "metadata": {
        "id": "3ZlRUyNI5rqR"
      }
    },
    {
      "cell_type": "code",
      "source": [
        "k = 3"
      ],
      "metadata": {
        "id": "gWUavWs65vo3"
      },
      "execution_count": 3,
      "outputs": []
    },
    {
      "cell_type": "markdown",
      "source": [
        "Введем данные о росте спортсменов по группам:"
      ],
      "metadata": {
        "id": "04nokUaM4Vzh"
      }
    },
    {
      "cell_type": "code",
      "source": [
        "football_players=np.array([173, 175, 180, 178, 177, 185, 183, 182], dtype=np.float64)\n",
        "hockey_players=np.array([177, 179, 180, 188, 177, 172, 171, 184, 180], dtype=np.float64)\n",
        "weightlifters=np.array([172, 173, 169, 177, 166, 180, 178, 177, 172, 166, 170], dtype=np.float64)"
      ],
      "metadata": {
        "id": "wNATNY0zBf2C"
      },
      "execution_count": 4,
      "outputs": []
    },
    {
      "cell_type": "markdown",
      "source": [
        "Сколько человек в каждой группе?"
      ],
      "metadata": {
        "id": "UicHqJud4bs_"
      }
    },
    {
      "cell_type": "code",
      "source": [
        "n_football_players = len(football_players)\n",
        "n_football_players"
      ],
      "metadata": {
        "colab": {
          "base_uri": "https://localhost:8080/"
        },
        "id": "O7SHeoNy1q8J",
        "outputId": "d9a6f2c1-b446-481b-ffdb-d221ae9c1969"
      },
      "execution_count": 5,
      "outputs": [
        {
          "output_type": "execute_result",
          "data": {
            "text/plain": [
              "8"
            ]
          },
          "metadata": {},
          "execution_count": 5
        }
      ]
    },
    {
      "cell_type": "code",
      "source": [
        "n_hockey_players = len(hockey_players)\n",
        "n_hockey_players"
      ],
      "metadata": {
        "colab": {
          "base_uri": "https://localhost:8080/"
        },
        "id": "vTcZEIxT4jAb",
        "outputId": "da18312a-a48b-4872-d0b3-8778dbeefd2a"
      },
      "execution_count": 6,
      "outputs": [
        {
          "output_type": "execute_result",
          "data": {
            "text/plain": [
              "9"
            ]
          },
          "metadata": {},
          "execution_count": 6
        }
      ]
    },
    {
      "cell_type": "code",
      "source": [
        "n_weightlifters = len(weightlifters)\n",
        "n_weightlifters"
      ],
      "metadata": {
        "colab": {
          "base_uri": "https://localhost:8080/"
        },
        "id": "6-6DKfUO4D4U",
        "outputId": "4e5aa9a1-9584-4ee5-d243-b192a28a961c"
      },
      "execution_count": 7,
      "outputs": [
        {
          "output_type": "execute_result",
          "data": {
            "text/plain": [
              "11"
            ]
          },
          "metadata": {},
          "execution_count": 7
        }
      ]
    },
    {
      "cell_type": "markdown",
      "source": [
        "Сколько всего спортсменов?"
      ],
      "metadata": {
        "id": "m9FByxxy4pUo"
      }
    },
    {
      "cell_type": "code",
      "source": [
        "n = n_football_players + n_hockey_players + n_weightlifters\n",
        "n"
      ],
      "metadata": {
        "colab": {
          "base_uri": "https://localhost:8080/"
        },
        "id": "Ocd5-wvZ4s9D",
        "outputId": "0e2b49bd-e939-450a-9453-55e58b0b2c78"
      },
      "execution_count": 8,
      "outputs": [
        {
          "output_type": "execute_result",
          "data": {
            "text/plain": [
              "28"
            ]
          },
          "metadata": {},
          "execution_count": 8
        }
      ]
    },
    {
      "cell_type": "markdown",
      "source": [
        "Выдвинем гипотезы.\n",
        "*   H0: различий среднего роста среди взрослых футболистов, хоккеистов и штангистов нет.\n",
        "*   H1: различия среднего роста среди взрослых футболистов, хоккеистов и штангистов есть."
      ],
      "metadata": {
        "id": "a7fJVSzyCc0z"
      }
    },
    {
      "cell_type": "markdown",
      "source": [
        "Проведем однофакторный дисперсионный анализ."
      ],
      "metadata": {
        "id": "UyWb47QK6k-o"
      }
    },
    {
      "cell_type": "markdown",
      "source": [
        "Сначала рассмотрим средний рост по каждой из групп."
      ],
      "metadata": {
        "id": "GafAqlXp6qbx"
      }
    },
    {
      "cell_type": "code",
      "source": [
        "football_players_mean = np.mean(football_players)\n",
        "football_players_mean"
      ],
      "metadata": {
        "colab": {
          "base_uri": "https://localhost:8080/"
        },
        "id": "h211F1L86uAt",
        "outputId": "02891f2f-ffdc-4f5e-d024-610b33db7f49"
      },
      "execution_count": 9,
      "outputs": [
        {
          "output_type": "execute_result",
          "data": {
            "text/plain": [
              "179.125"
            ]
          },
          "metadata": {},
          "execution_count": 9
        }
      ]
    },
    {
      "cell_type": "code",
      "source": [
        "hockey_players_mean = np.mean(hockey_players)\n",
        "hockey_players_mean"
      ],
      "metadata": {
        "colab": {
          "base_uri": "https://localhost:8080/"
        },
        "id": "Q3ptthx17D3n",
        "outputId": "af91120c-6d39-469c-a070-187f7cc7a3e8"
      },
      "execution_count": 10,
      "outputs": [
        {
          "output_type": "execute_result",
          "data": {
            "text/plain": [
              "178.66666666666666"
            ]
          },
          "metadata": {},
          "execution_count": 10
        }
      ]
    },
    {
      "cell_type": "code",
      "source": [
        "weightlifters_mean = np.mean(weightlifters)\n",
        "weightlifters_mean"
      ],
      "metadata": {
        "colab": {
          "base_uri": "https://localhost:8080/"
        },
        "id": "uCB-0Oig7N-l",
        "outputId": "61a06ee2-5969-4cb8-dd19-7c643125bb56"
      },
      "execution_count": 11,
      "outputs": [
        {
          "output_type": "execute_result",
          "data": {
            "text/plain": [
              "172.72727272727272"
            ]
          },
          "metadata": {},
          "execution_count": 11
        }
      ]
    },
    {
      "cell_type": "markdown",
      "source": [
        "Средние разнятся, но нужно проверить статистическую значимость этого."
      ],
      "metadata": {
        "id": "aAXBtkgS76P5"
      }
    },
    {
      "cell_type": "markdown",
      "source": [
        "Соберем все значения роста в один общий массив:"
      ],
      "metadata": {
        "id": "UXzvQaQV8ASH"
      }
    },
    {
      "cell_type": "code",
      "source": [
        "growth_total = np.concatenate([football_players, hockey_players, weightlifters])\n",
        "growth_total"
      ],
      "metadata": {
        "colab": {
          "base_uri": "https://localhost:8080/"
        },
        "id": "qOhxtOg18Fcg",
        "outputId": "d5652f18-2fec-452c-a648-ed89e9fb46d3"
      },
      "execution_count": 12,
      "outputs": [
        {
          "output_type": "execute_result",
          "data": {
            "text/plain": [
              "array([173., 175., 180., 178., 177., 185., 183., 182., 177., 179., 180.,\n",
              "       188., 177., 172., 171., 184., 180., 172., 173., 169., 177., 166.,\n",
              "       180., 178., 177., 172., 166., 170.])"
            ]
          },
          "metadata": {},
          "execution_count": 12
        }
      ]
    },
    {
      "cell_type": "markdown",
      "source": [
        "Найдем среднее значение роста по всем группам:"
      ],
      "metadata": {
        "id": "v7EpuZFlZfTp"
      }
    },
    {
      "cell_type": "code",
      "source": [
        "growth_mean = np.mean(growth_total)\n",
        "growth_mean"
      ],
      "metadata": {
        "colab": {
          "base_uri": "https://localhost:8080/"
        },
        "id": "NTsYYIquZjf-",
        "outputId": "f96f32bf-0d78-4b78-91e1-6eee21faf1ec"
      },
      "execution_count": 14,
      "outputs": [
        {
          "output_type": "execute_result",
          "data": {
            "text/plain": [
              "176.46428571428572"
            ]
          },
          "metadata": {},
          "execution_count": 14
        }
      ]
    },
    {
      "cell_type": "markdown",
      "source": [
        "Найдем $S^2$:"
      ],
      "metadata": {
        "id": "1i-xnynJaLpD"
      }
    },
    {
      "cell_type": "code",
      "source": [
        "s2 = np.sum((growth_total - growth_mean)**2)\n",
        "s2"
      ],
      "metadata": {
        "colab": {
          "base_uri": "https://localhost:8080/"
        },
        "id": "ZQDFcgx0aVyn",
        "outputId": "76a99386-9bb5-4138-9730-38684cc6a6bd"
      },
      "execution_count": 15,
      "outputs": [
        {
          "output_type": "execute_result",
          "data": {
            "text/plain": [
              "830.9642857142854"
            ]
          },
          "metadata": {},
          "execution_count": 15
        }
      ]
    },
    {
      "cell_type": "markdown",
      "source": [
        "Найдем $S^2_F$:"
      ],
      "metadata": {
        "id": "ZhaDhbnaa_iC"
      }
    },
    {
      "cell_type": "code",
      "source": [
        "s2_f = ((football_players_mean - growth_mean)**2) * n_football_players + ((hockey_players_mean - growth_mean)**2) * n_hockey_players + ((weightlifters_mean - growth_mean)**2) * n_weightlifters\n",
        "s2_f"
      ],
      "metadata": {
        "colab": {
          "base_uri": "https://localhost:8080/"
        },
        "id": "doeT2R3VbHBL",
        "outputId": "99a51ac8-0acf-4851-c3d0-a7bdd5cb5920"
      },
      "execution_count": 23,
      "outputs": [
        {
          "output_type": "execute_result",
          "data": {
            "text/plain": [
              "253.9074675324678"
            ]
          },
          "metadata": {},
          "execution_count": 23
        }
      ]
    },
    {
      "cell_type": "markdown",
      "source": [
        "Найдем $S^2_{ост}$:"
      ],
      "metadata": {
        "id": "uvcgoNONbt6w"
      }
    },
    {
      "cell_type": "code",
      "source": [
        "s2_res = ((football_players - football_players_mean) ** 2).sum() + ((hockey_players - hockey_players_mean) ** 2).sum() + ((weightlifters - weightlifters_mean) ** 2).sum()\n",
        "s2_res"
      ],
      "metadata": {
        "colab": {
          "base_uri": "https://localhost:8080/"
        },
        "id": "bfo4aXgjb8ny",
        "outputId": "36cf0e63-0a86-48a0-fc4f-05d77e36d17b"
      },
      "execution_count": 25,
      "outputs": [
        {
          "output_type": "execute_result",
          "data": {
            "text/plain": [
              "577.0568181818182"
            ]
          },
          "metadata": {},
          "execution_count": 25
        }
      ]
    },
    {
      "cell_type": "markdown",
      "source": [
        "Удостоверимся, что соблюдается равенство $S^2 = S_F^2 + S_{ост}^2$:"
      ],
      "metadata": {
        "id": "6z6o64tnfPNb"
      }
    },
    {
      "cell_type": "code",
      "source": [
        "s2_f + s2_res"
      ],
      "metadata": {
        "colab": {
          "base_uri": "https://localhost:8080/"
        },
        "id": "KFzQa2rCfbHa",
        "outputId": "df424377-8596-49e8-eb23-2eb47afbd6c8"
      },
      "execution_count": 27,
      "outputs": [
        {
          "output_type": "execute_result",
          "data": {
            "text/plain": [
              "830.964285714286"
            ]
          },
          "metadata": {},
          "execution_count": 27
        }
      ]
    },
    {
      "cell_type": "markdown",
      "source": [
        "Найдем общую дисперсию:"
      ],
      "metadata": {
        "id": "jw-HZJDvgYPg"
      }
    },
    {
      "cell_type": "code",
      "source": [
        "sigma2_general = s2 / (n - 1)\n",
        "sigma2_general"
      ],
      "metadata": {
        "colab": {
          "base_uri": "https://localhost:8080/"
        },
        "id": "oXaFv80egY6P",
        "outputId": "dcff7202-5b78-44ac-f41b-6503dac9b1a1"
      },
      "execution_count": 28,
      "outputs": [
        {
          "output_type": "execute_result",
          "data": {
            "text/plain": [
              "30.776455026455015"
            ]
          },
          "metadata": {},
          "execution_count": 28
        }
      ]
    },
    {
      "cell_type": "markdown",
      "source": [
        "Найдем факторную дисперсию:"
      ],
      "metadata": {
        "id": "p7-EH3FuggUo"
      }
    },
    {
      "cell_type": "code",
      "source": [
        "sigma2_f = s2_f / (k - 1)\n",
        "sigma2_f"
      ],
      "metadata": {
        "colab": {
          "base_uri": "https://localhost:8080/"
        },
        "id": "Mzl1m-NTgkAg",
        "outputId": "da632457-9ead-430b-b758-6b049183c629"
      },
      "execution_count": 29,
      "outputs": [
        {
          "output_type": "execute_result",
          "data": {
            "text/plain": [
              "126.9537337662339"
            ]
          },
          "metadata": {},
          "execution_count": 29
        }
      ]
    },
    {
      "cell_type": "markdown",
      "source": [
        "Найдем остаточную дисперсию:"
      ],
      "metadata": {
        "id": "BpMe358Pgn9Z"
      }
    },
    {
      "cell_type": "code",
      "source": [
        "sigma2_res = s2_res / (n - k)\n",
        "sigma2_res"
      ],
      "metadata": {
        "colab": {
          "base_uri": "https://localhost:8080/"
        },
        "id": "evqapfJKgrYV",
        "outputId": "235f67a1-56f3-4fb4-ea88-589c36a83f2e"
      },
      "execution_count": 32,
      "outputs": [
        {
          "output_type": "execute_result",
          "data": {
            "text/plain": [
              "23.08227272727273"
            ]
          },
          "metadata": {},
          "execution_count": 32
        }
      ]
    },
    {
      "cell_type": "markdown",
      "source": [
        "Вычислим $F_H$:"
      ],
      "metadata": {
        "id": "k8qDly8bg2CW"
      }
    },
    {
      "cell_type": "code",
      "source": [
        "F_h = sigma2_f / sigma2_res\n",
        "F_h"
      ],
      "metadata": {
        "colab": {
          "base_uri": "https://localhost:8080/"
        },
        "id": "9hBSntW7g2wT",
        "outputId": "b9e1a33e-7da7-404b-bc2b-2527ca4e43ee"
      },
      "execution_count": 33,
      "outputs": [
        {
          "output_type": "execute_result",
          "data": {
            "text/plain": [
              "5.500053450812598"
            ]
          },
          "metadata": {},
          "execution_count": 33
        }
      ]
    },
    {
      "cell_type": "markdown",
      "source": [
        "Найдем значение $F_{крит}$ в таблице критических точек распределения Фишера-Снедекора для заданного уровня значимости $\\alpha = 0.05$ и двух степеней свободы: \n",
        "\n",
        "$df_{межд} = k - 1 = 3 - 1 = 2$ и $df_{внутр} = n - k = 28 - 3 = 25$."
      ],
      "metadata": {
        "id": "Oda6itgChEVf"
      }
    },
    {
      "cell_type": "markdown",
      "source": [
        "Таблица: https://www.matburo.ru/tv/table_fisher.pdf?ysclid=lg2lupqxhu91310583\n",
        "Для данных значений $F_{крит} = 3.38$. Так как $F_H > F_{крит}$, различия среднего роста в трех группах статистически значимо."
      ],
      "metadata": {
        "id": "XAszfIF1hF60"
      }
    },
    {
      "cell_type": "markdown",
      "source": [
        "Также вычислим эмпирическое корреляционное отношение $\\eta^2$:"
      ],
      "metadata": {
        "id": "2YVPuPBYjIuF"
      }
    },
    {
      "cell_type": "code",
      "source": [
        "eta2 = s2_f / s2\n",
        "eta2"
      ],
      "metadata": {
        "colab": {
          "base_uri": "https://localhost:8080/"
        },
        "id": "g1BPVbfzjLvW",
        "outputId": "578cf045-0233-4603-df82-117f085dc11f"
      },
      "execution_count": 37,
      "outputs": [
        {
          "output_type": "execute_result",
          "data": {
            "text/plain": [
              "0.30555761769498"
            ]
          },
          "metadata": {},
          "execution_count": 37
        }
      ]
    },
    {
      "cell_type": "markdown",
      "source": [
        "Показатель низкий, но все же чуть-чуть выше 0,3. "
      ],
      "metadata": {
        "id": "kZrAYwtQmmHo"
      }
    },
    {
      "cell_type": "markdown",
      "source": [
        "Отвергаем нулевую гипотезу, принимаем альтернативную.\n",
        "\n"
      ],
      "metadata": {
        "id": "r9IDF8GLOwLc"
      }
    },
    {
      "cell_type": "markdown",
      "source": [
        "**Вывод:** различия среднего роста среди взрослых футболистов, хоккеистов и штангистов есть."
      ],
      "metadata": {
        "id": "GbM_ZS0JDoqc"
      }
    }
  ]
}